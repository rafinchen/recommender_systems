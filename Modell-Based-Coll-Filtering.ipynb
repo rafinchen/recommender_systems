{
  "cells": [
    {
      "cell_type": "markdown",
      "metadata": {
        "id": "view-in-github",
        "colab_type": "text"
      },
      "source": [
        "<a href=\"https://colab.research.google.com/github/rafinchen/recommender_systems/blob/main/Modell-Based-Coll-Filtering.ipynb\" target=\"_parent\"><img src=\"https://colab.research.google.com/assets/colab-badge.svg\" alt=\"Open In Colab\"/></a>"
      ]
    },
    {
      "metadata": {
        "id": "a94ebd5f5307163d"
      },
      "cell_type": "markdown",
      "source": [
        "<a href=\"https://colab.research.google.com/github/lucarenz1997/recommender_systems/blob/main/Modell-Based-Coll-Filtering.ipynb\" target=\"_parent\"><img src=\"https://colab.research.google.com/assets/colab-badge.svg\" alt=\"Open In Colab\"/></a>"
      ],
      "id": "a94ebd5f5307163d"
    },
    {
      "cell_type": "markdown",
      "source": [
        "# Modell-Based-Coll-Filtering\n",
        "** Authors **: Rafaella and Luca"
      ],
      "metadata": {
        "collapsed": false,
        "id": "dd70d100feef6261"
      },
      "id": "dd70d100feef6261"
    },
    {
      "cell_type": "markdown",
      "source": [
        "## Setup"
      ],
      "metadata": {
        "id": "FrbUZGF-u7Uj"
      },
      "id": "FrbUZGF-u7Uj"
    },
    {
      "cell_type": "code",
      "source": [
        "import numpy as np\n",
        "import torch\n",
        "import torch.nn as nn\n",
        "import torch.optim as optim\n",
        "from torch.utils.data import Dataset, DataLoader\n",
        "import tensorflow as tf\n",
        "from tensorflow.keras.layers import Input, Embedding, Flatten, Dense, Concatenate, Dropout\n",
        "from tensorflow.keras.models import Model\n",
        "from sklearn.preprocessing import LabelEncoder, MinMaxScaler\n",
        "from sklearn.model_selection import train_test_split\n",
        "import pandas as pd\n",
        "from sklearn.metrics import precision_score, recall_score, f1_score, accuracy_score, roc_curve, auc\n",
        "from surprise import Dataset, Reader, SVD\n",
        "from surprise.model_selection import train_test_split\n",
        "from surprise import accuracy\n",
        "from collections import defaultdict\n",
        "import matplotlib.pyplot as plt\n",
        "from scipy.sparse import csr_matrix\n",
        "from google.colab import drive\n",
        "drive.mount('/content/drive')\n",
        "import warnings\n",
        "# Suppress all warnings\n",
        "warnings.filterwarnings(\"ignore\")\n",
        "\n"
      ],
      "metadata": {
        "colab": {
          "base_uri": "https://localhost:8080/"
        },
        "id": "DzzuOXLqt1iK",
        "outputId": "e4d73436-b68f-4dc7-da74-722aa7b4a3bf"
      },
      "id": "DzzuOXLqt1iK",
      "execution_count": 24,
      "outputs": [
        {
          "output_type": "stream",
          "name": "stdout",
          "text": [
            "Drive already mounted at /content/drive; to attempt to forcibly remount, call drive.mount(\"/content/drive\", force_remount=True).\n"
          ]
        }
      ]
    },
    {
      "cell_type": "markdown",
      "source": [
        "## Data Preparation"
      ],
      "metadata": {
        "id": "atoBOuwGt32r"
      },
      "id": "atoBOuwGt32r"
    },
    {
      "metadata": {
        "ExecuteTime": {
          "end_time": "2025-01-30T10:24:14.812465Z",
          "start_time": "2025-01-30T10:24:14.792202Z"
        },
        "id": "174c3c23ad23acdc"
      },
      "cell_type": "code",
      "source": [
        "#Load data\n",
        "data_sample_prep = pd.read_csv(\"/content/drive/MyDrive/Recommender/sample_preprocessed.csv\")\n",
        "data_sample_prep.head(100)\n",
        "\n",
        "#Select Relevant Columns\n",
        "data_sample_prep_sel = data_sample_prep[['user_id', 'media_id', 'is_listened']]  # Keep only necessary columns for the SVD model"
      ],
      "id": "174c3c23ad23acdc",
      "outputs": [],
      "execution_count": 18
    },
    {
      "cell_type": "code",
      "source": [
        "#Convert to Surprise Dataset Format\n",
        "reader = Reader(rating_scale=(0, 1))  #Binary values (0 = not heard, 1 = heard)\n",
        "data = Dataset.load_from_df(data_sample_prep_sel[['user_id', 'media_id', 'is_listened']], reader)\n",
        "\n",
        "#Split training and test data\n",
        "trainset, testset = train_test_split(data, test_size=0.2)"
      ],
      "metadata": {
        "id": "hbqS0kVOPhwP"
      },
      "id": "hbqS0kVOPhwP",
      "execution_count": null,
      "outputs": []
    },
    {
      "cell_type": "markdown",
      "source": [
        "## Model Training and Predictions"
      ],
      "metadata": {
        "id": "jTh5EZTgNVp8"
      },
      "id": "jTh5EZTgNVp8"
    },
    {
      "cell_type": "code",
      "source": [
        "#Initialize and train the SVD model\n",
        "model = SVD(n_factors=50, reg_all=0.1, n_epochs=20)\n",
        "model.fit(trainset)\n",
        "\n",
        "#Generate Predictions on the Test Set\n",
        "testset = trainset.build_testset()\n",
        "predictions = model.test(testset)"
      ],
      "metadata": {
        "id": "c22urM_sGrb5"
      },
      "id": "c22urM_sGrb5",
      "execution_count": 19,
      "outputs": []
    },
    {
      "cell_type": "markdown",
      "source": [
        "## Threshold Optimization for F1 Score"
      ],
      "metadata": {
        "id": "GILt_0b1CV9G"
      },
      "id": "GILt_0b1CV9G"
    },
    {
      "cell_type": "code",
      "source": [
        "#Optimize Threshold for Best F1 Score\n",
        "best_threshold = 0.5\n",
        "best_f1 = 0\n",
        "\n",
        "#Test thresholds between 0.1 and 0.9\n",
        "thresholds = np.arange(0.1, 1.0, 0.1)\n",
        "for threshold in thresholds:\n",
        "    y_true = [true_r for (_, _, true_r, _, _) in predictions]  # True labels\n",
        "    y_pred = [1 if est >= threshold else 0 for (_, _, _, est, _) in predictions]  # Convert predictions to binary\n",
        "\n",
        "    f1 = f1_score(y_true, y_pred, zero_division=1)\n",
        "\n",
        "    if f1 > best_f1:\n",
        "        best_f1 = f1\n",
        "        best_threshold = threshold\n",
        "\n",
        "print(f\"\\n🔍 **Optimal Threshold for F1 Score: {best_threshold:.2f} with F1: {best_f1:.4f}**\")"
      ],
      "metadata": {
        "id": "pQhNTCRr-mWH",
        "outputId": "80e24ee5-592d-478c-8586-f02aa79ba716",
        "colab": {
          "base_uri": "https://localhost:8080/"
        }
      },
      "id": "pQhNTCRr-mWH",
      "execution_count": 20,
      "outputs": [
        {
          "output_type": "stream",
          "name": "stdout",
          "text": [
            "\n",
            "🔍 **Optimal Threshold for F1 Score: 0.50 with F1: 0.8680**\n"
          ]
        }
      ]
    },
    {
      "cell_type": "markdown",
      "source": [
        "##  Model Evaluation"
      ],
      "metadata": {
        "id": "Msy-ijkhN3gZ"
      },
      "id": "Msy-ijkhN3gZ"
    },
    {
      "cell_type": "code",
      "source": [
        "#Evaluate Model with Optimal Threshold\n",
        "y_true = [true_r for (_, _, true_r, _, _) in predictions]\n",
        "y_pred = [1 if est >= best_threshold else 0 for (_, _, _, est, _) in predictions]\n",
        "\n",
        "accuracy_val = accuracy_score(y_true, y_pred)\n",
        "precision_val = precision_score(y_true, y_pred, zero_division=1)\n",
        "recall_val = recall_score(y_true, y_pred, zero_division=1)\n",
        "f1_val = f1_score(y_true, y_pred, zero_division=1)\n",
        "\n",
        "# **9. Print Evaluation Results**\n",
        "print(\"\\n🔎 **Model Evaluation with Optimal Threshold:**\")\n",
        "print(f\"✅ Accuracy: {accuracy_val:.4f}\")\n",
        "print(f\"✅ Precision: {precision_val:.4f}\")\n",
        "print(f\"✅ Recall: {recall_val:.4f}\")\n",
        "print(f\"✅ F1 Score: {f1_val:.4f}\")"
      ],
      "metadata": {
        "colab": {
          "base_uri": "https://localhost:8080/"
        },
        "id": "Ttew9PKqN5-E",
        "outputId": "b0b871d0-57ca-44f7-a1e9-45e742bf734f"
      },
      "id": "Ttew9PKqN5-E",
      "execution_count": 21,
      "outputs": [
        {
          "output_type": "stream",
          "name": "stdout",
          "text": [
            "\n",
            "🔎 **Model Evaluation with Optimal Threshold:**\n",
            "✅ Accuracy: 0.8050\n",
            "✅ Precision: 0.8085\n",
            "✅ Recall: 0.9368\n",
            "✅ F1 Score: 0.8680\n"
          ]
        }
      ]
    },
    {
      "cell_type": "markdown",
      "source": [
        "## Recommendations & Visualization"
      ],
      "metadata": {
        "id": "Cr7rifafOC6H"
      },
      "id": "Cr7rifafOC6H"
    },
    {
      "cell_type": "code",
      "source": [
        "#Compute Precision@K\n",
        "def precision_at_k(predictions, k=10, threshold=best_threshold):\n",
        "    user_precisions = defaultdict(list)\n",
        "    for uid, _, true_r, est, _ in predictions:\n",
        "        relevance = (est >= threshold)\n",
        "        user_precisions[uid].append((est, relevance))\n",
        "\n",
        "    precision_scores = []\n",
        "    for uid, user_ratings in user_precisions.items():\n",
        "        user_ratings.sort(key=lambda x: x[0], reverse=True)\n",
        "        top_k = user_ratings[:k]\n",
        "        num_relevant = sum((relevance for _, relevance in top_k))\n",
        "        precision = num_relevant / k\n",
        "        precision_scores.append(precision)\n",
        "\n",
        "    return np.mean(precision_scores) if precision_scores else 0\n",
        "\n",
        "precision_k = precision_at_k(predictions, k=10)\n",
        "print(f\"✅ Precision@10: {precision_k:.4f}\")\n",
        "\n",
        "# **11. Generate Top-N Recommendations for Users**\n",
        "def get_top_n(predictions, n=10):\n",
        "    top_n = defaultdict(list)\n",
        "    for uid, iid, true_r, est, _ in predictions:\n",
        "        top_n[uid].append((iid, est))\n",
        "\n",
        "    for uid, user_ratings in top_n.items():\n",
        "        user_ratings.sort(key=lambda x: x[1], reverse=True)\n",
        "        top_n[uid] = user_ratings[:n]\n",
        "\n",
        "    return top_n\n",
        "\n",
        "top_n_recommendations = get_top_n(predictions, n=10)\n",
        "\n",
        "# **12. Display Top-10 Recommendations for a Sample User**\n",
        "user_id = 123  # Example User ID\n",
        "if user_id in top_n_recommendations:\n",
        "    print(f\"\\n🎵 **Top 10 Recommendations for User {user_id}:**\\n\")\n",
        "    for i, (song_id, score) in enumerate(top_n_recommendations[user_id], 1):\n",
        "        print(f\"{i}. Song ID: {song_id}, Predicted Score: {score:.3f}\")\n",
        "else:\n",
        "    print(f\"⚠ No recommendations for User {user_id}.\")\n",
        "\n",
        "# **13. ROC Curve and AUC Visualization**\n",
        "fpr, tpr, _ = roc_curve(y_true, y_pred)\n",
        "roc_auc = auc(fpr, tpr)\n",
        "\n",
        "plt.figure()\n",
        "plt.plot(fpr, tpr, color='darkorange', lw=2, label=f'ROC Curve (AUC = {roc_auc:.2f})')\n",
        "plt.plot([0, 1], [0, 1], color='navy', lw=2, linestyle='--')\n",
        "plt.xlim([0.0, 1.0])\n",
        "plt.ylim([0.0, 1.05])\n",
        "plt.xlabel('False Positive Rate')\n",
        "plt.ylabel('True Positive Rate')\n",
        "plt.title('Receiver Operating Characteristic')\n",
        "plt.legend(loc=\"lower right\")\n",
        "plt.show()\n"
      ],
      "metadata": {
        "colab": {
          "base_uri": "https://localhost:8080/",
          "height": 715
        },
        "id": "zVJfCRiIOCcR",
        "outputId": "688c41e9-c41c-4d15-af21-f6672fa43aab"
      },
      "id": "zVJfCRiIOCcR",
      "execution_count": 22,
      "outputs": [
        {
          "output_type": "stream",
          "name": "stdout",
          "text": [
            "✅ Precision@10: 0.6820\n",
            "\n",
            "🎵 **Top 10 Recommendations for User 123:**\n",
            "\n",
            "1. Song ID: 14681034, Predicted Score: 0.606\n",
            "2. Song ID: 14681034, Predicted Score: 0.606\n",
            "3. Song ID: 14681034, Predicted Score: 0.606\n",
            "4. Song ID: 125890447, Predicted Score: 0.557\n",
            "5. Song ID: 3148015, Predicted Score: 0.549\n",
            "6. Song ID: 2112595, Predicted Score: 0.523\n",
            "7. Song ID: 16418245, Predicted Score: 0.498\n",
            "8. Song ID: 97956122, Predicted Score: 0.489\n",
            "9. Song ID: 1109835, Predicted Score: 0.486\n",
            "10. Song ID: 94727052, Predicted Score: 0.484\n"
          ]
        },
        {
          "output_type": "display_data",
          "data": {
            "text/plain": [
              "<Figure size 640x480 with 1 Axes>"
            ],
            "image/png": "[encoded data removed]"
          },
          "metadata": {}
        }
      ]
    },
    {
      "cell_type": "markdown",
      "source": [
        "## ALS"
      ],
      "metadata": {
        "id": "kF-PZjgFOsqY"
      },
      "id": "kF-PZjgFOsqY"
    },
    {
      "cell_type": "markdown",
      "source": [
        "## Data Preparation (ALS)"
      ],
      "metadata": {
        "id": "z3BMSWPiRrj3"
      },
      "id": "z3BMSWPiRrj3"
    },
    {
      "cell_type": "code",
      "source": [
        "#Select Relevant Columns\n",
        "data_sample_prep_sel = data_sample_prep[['user_id', 'media_id', 'is_listened']]  # Keep only necessary columns for the ALS model\n",
        "\n",
        "#Convert IDs to Indices\n",
        "user_ids = {id: idx for idx, id in enumerate(data_sample_prep_sel['user_id'].unique())}\n",
        "media_ids = {id: idx for idx, id in enumerate(data_sample_prep_sel['media_id'].unique())}\n",
        "\n",
        "data_sample_prep_sel['user_idx'] = data_sample_prep_sel['user_id'].map(user_ids)\n",
        "data_sample_prep_sel['media_idx'] = data_sample_prep_sel['media_id'].map(media_ids)\n",
        "\n",
        "#Create User-Item Interaction Matrix\n",
        "user_item_matrix = csr_matrix(\n",
        "    (data_sample_prep_sel['is_listened'], (data_sample_prep_sel['user_idx'], data_sample_prep_sel['media_idx']))\n",
        ")\n",
        "\n",
        "print(f\"✅ User-Item Matrix Shape: {user_item_matrix.shape}\")"
      ],
      "metadata": {
        "id": "4auG07OfQmhb",
        "outputId": "5cb73991-17e8-4d36-d5ba-cdf395c25383",
        "colab": {
          "base_uri": "https://localhost:8080/"
        }
      },
      "id": "4auG07OfQmhb",
      "execution_count": 26,
      "outputs": [
        {
          "output_type": "stream",
          "name": "stdout",
          "text": [
            "✅ User-Item Matrix Shape: (14823, 67846)\n"
          ]
        }
      ]
    },
    {
      "cell_type": "markdown",
      "source": [
        "## Train ALS Model"
      ],
      "metadata": {
        "id": "pgHyeodGQlAS"
      },
      "id": "pgHyeodGQlAS"
    },
    {
      "cell_type": "code",
      "source": [
        "#Train ALS Model\n",
        "factors = 50\n",
        "regularization = 0.1\n",
        "iterations = 20\n",
        "alpha = 40  # Scaling factor for implicit feedback\n",
        "\n",
        "model = implicit.als.AlternatingLeastSquares(\n",
        "    factors=factors,\n",
        "    regularization=regularization,\n",
        "    iterations=iterations\n",
        ")\n",
        "\n",
        "print(\"🚀 Training ALS model...\")\n",
        "model.fit(user_item_matrix * alpha)\n",
        "print(\"✅ Model training complete.\")"
      ],
      "metadata": {
        "id": "7Aods59ZOvEe"
      },
      "id": "7Aods59ZOvEe",
      "execution_count": null,
      "outputs": []
    },
    {
      "cell_type": "markdown",
      "source": [
        "## Generate Predictions & Optimize Threshold"
      ],
      "metadata": {
        "id": "-QAKVBw3Rz8O"
      },
      "id": "-QAKVBw3Rz8O"
    },
    {
      "cell_type": "code",
      "source": [
        "#Generate Predictions\n",
        "predictions = []\n",
        "for user_idx in range(user_item_matrix.shape[0]):\n",
        "    recommended = model.recommend(user_idx, user_item_matrix[user_idx], N=10)\n",
        "    for media_idx, score in recommended:\n",
        "        predictions.append((user_idx, media_idx, score))\n",
        "\n",
        "print(f\"✅ Predictions generated: {len(predictions)} records\")\n",
        "\n",
        "# **7. Optimize Threshold for Best F1 Score**\n",
        "def optimize_threshold(y_true, y_scores):\n",
        "    best_threshold = 0.5\n",
        "    best_f1 = 0\n",
        "    thresholds = np.arange(0.1, 1.0, 0.1)\n",
        "\n",
        "    for threshold in thresholds:\n",
        "        y_pred = (y_scores >= threshold).astype(int)\n",
        "        f1 = f1_score(y_true, y_pred, zero_division=1)\n",
        "\n",
        "        if f1 > best_f1:\n",
        "            best_f1 = f1\n",
        "            best_threshold = threshold\n",
        "\n",
        "    return best_threshold, best_f1\n",
        "\n",
        "\n",
        "y_true = df['is_listened'].values\n",
        "y_scores = np.array([score for _, _, score in predictions])\n",
        "\n",
        "best_threshold, best_f1 = optimize_threshold(y_true, y_scores)\n",
        "\n",
        "print(f\"\\n🔍 **Optimal Threshold for F1 Score: {best_threshold:.2f} with F1: {best_f1:.4f}**\")\n"
      ],
      "metadata": {
        "id": "0gXEYR8DR0-B"
      },
      "id": "0gXEYR8DR0-B",
      "execution_count": null,
      "outputs": []
    },
    {
      "cell_type": "markdown",
      "source": [
        "## Evaluate Model Performance"
      ],
      "metadata": {
        "id": "khNoVmH3QYmx"
      },
      "id": "khNoVmH3QYmx"
    },
    {
      "cell_type": "code",
      "source": [
        "#Evaluate Model\n",
        "def evaluate_model(y_true, y_scores, threshold):\n",
        "    y_pred = (y_scores >= threshold).astype(int)\n",
        "\n",
        "    accuracy_val = accuracy_score(y_true, y_pred)\n",
        "    precision_val = precision_score(y_true, y_pred, zero_division=1)\n",
        "    recall_val = recall_score(y_true, y_pred, zero_division=1)\n",
        "    f1_val = f1_score(y_true, y_pred, zero_division=1)\n",
        "\n",
        "    print(\"\\n🔎 **Model Evaluation with Optimized Threshold:**\")\n",
        "    print(f\"✅ Accuracy: {accuracy_val:.4f}\")\n",
        "    print(f\"✅ Precision: {precision_val:.4f}\")\n",
        "    print(f\"✅ Recall: {recall_val:.4f}\")\n",
        "    print(f\"✅ F1 Score: {f1_val:.4f}\")\n",
        "\n",
        "\n",
        "evaluate_model(y_true, y_scores, best_threshold)\n",
        "\n",
        "\n",
        "# **9. Compute Precision@K**\n",
        "def precision_at_k(predictions, k=10, threshold=best_threshold):\n",
        "    user_precisions = defaultdict(list)\n",
        "    for uid, _, score in predictions:\n",
        "        relevance = (score >= threshold)\n",
        "        user_precisions[uid].append((score, relevance))\n",
        "\n",
        "    precision_scores = []\n",
        "    for uid, user_ratings in user_precisions.items():\n",
        "        user_ratings.sort(key=lambda x: x[0], reverse=True)\n",
        "        top_k = user_ratings[:k]\n",
        "        num_relevant = sum((relevance for _, relevance in top_k))\n",
        "        precision = num_relevant / k\n",
        "        precision_scores.append(precision)\n",
        "\n",
        "    return np.mean(precision_scores) if precision_scores else 0\n",
        "\n",
        "\n",
        "precision_k = precision_at_k(predictions, k=10)\n",
        "print(f\"✅ Precision@10: {precision_k:.4f}\")\n"
      ],
      "metadata": {
        "id": "vVOgEwj4R8aF"
      },
      "id": "vVOgEwj4R8aF",
      "execution_count": null,
      "outputs": []
    },
    {
      "cell_type": "markdown",
      "source": [
        "## Generate Recommendations & Visualize ROC Curve"
      ],
      "metadata": {
        "id": "CQcFcN_VR_3T"
      },
      "id": "CQcFcN_VR_3T"
    },
    {
      "cell_type": "code",
      "source": [
        "#Generate Recommendations for a Specific User\n",
        "def recommend_for_user(user_id, n=10):\n",
        "    if user_id not in user_ids:\n",
        "        print(f\"⚠ User ID {user_id} not found.\")\n",
        "        return []\n",
        "\n",
        "    user_idx = user_ids[user_id]\n",
        "    recommendations = model.recommend(user_idx, user_item_matrix[user_idx], N=n)\n",
        "    recommended_items = [(media_id, score) for media_id, score in recommendations]\n",
        "\n",
        "    print(f\"\\n🎵 **Top {n} Recommendations for User {user_id}:**\")\n",
        "    for i, (media_id, score) in enumerate(recommended_items, 1):\n",
        "        print(f\"{i}. Media ID: {media_id}, Predicted Score: {score:.3f}\")\n",
        "\n",
        "    return recommended_items\n",
        "\n",
        "\n",
        "# **Example Recommendation for a User**\n",
        "user_id = 123  # Replace with a valid user ID\n",
        "recommend_for_user(user_id, n=10)\n",
        "\n",
        "\n",
        "# **11. Plot ROC Curve**\n",
        "def plot_roc_curve(y_true, y_scores):\n",
        "    fpr, tpr, _ = roc_curve(y_true, y_scores)\n",
        "    roc_auc = auc(fpr, tpr)\n",
        "\n",
        "    plt.figure()\n",
        "    plt.plot(fpr, tpr, color='darkorange', lw=2, label=f'ROC Curve (AUC = {roc_auc:.2f})')\n",
        "    plt.plot([0, 1], [0, 1], color='navy', lw=2, linestyle='--')\n",
        "    plt.xlim([0.0, 1.0])\n",
        "    plt.ylim([0.0, 1.05])\n",
        "    plt.xlabel('False Positive Rate')\n",
        "    plt.ylabel('True Positive Rate')\n",
        "    plt.title('Receiver Operating Characteristic')\n",
        "    plt.legend(loc=\"lower right\")\n",
        "    plt.show()\n",
        "\n",
        "\n",
        "plot_roc_curve(y_true, y_scores)\n"
      ],
      "metadata": {
        "id": "qH_FLndwR_Zt"
      },
      "id": "qH_FLndwR_Zt",
      "execution_count": null,
      "outputs": []
    }
  ],
  "metadata": {
    "kernelspec": {
      "display_name": "Python 3 (ipykernel)",
      "name": "python3",
      "language": "python"
    },
    "language_info": {
      "codemirror_mode": {
        "name": "ipython",
        "version": 2
      },
      "file_extension": ".py",
      "mimetype": "text/x-python",
      "name": "python",
      "nbconvert_exporter": "python",
      "pygments_lexer": "ipython2",
      "version": "2.7.6"
    },
    "colab": {
      "provenance": [],
      "gpuType": "T4",
      "include_colab_link": true
    },
    "accelerator": "GPU"
  },
  "nbformat": 4,
  "nbformat_minor": 5
}